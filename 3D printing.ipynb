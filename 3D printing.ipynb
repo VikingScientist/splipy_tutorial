{
 "cells": [
  {
   "cell_type": "markdown",
   "id": "a9396318",
   "metadata": {},
   "source": [
    "# 3D printing\n",
    "\n",
    "Splipy allows for the cration and manipulation of smooth 3D objects. Sadly matplotlib is very bad at showing 3D figures, so it is encouraged to download [Meshlab](https://www.meshlab.net/) to view the resulting files.\n",
    "\n",
    "3D printing software typically supports `.stl`-files which can be extracted as a triangulation of smooth spline objects. We will here save files in this format so they can be exported most easily to printing software"
   ]
  },
  {
   "cell_type": "markdown",
   "id": "d709b190",
   "metadata": {},
   "source": [
    "## The trefoil knot\n",
    "\n",
    "We will here try to create a printable `.stl` file of the [trefoil knot](https://en.wikipedia.org/wiki/Trefoil_knot).\n",
    "\n",
    "<img src=\"https://upload.wikimedia.org/wikipedia/commons/thumb/6/6a/Tricoloring.png/1280px-Tricoloring.png\">"
   ]
  },
  {
   "cell_type": "code",
   "execution_count": 2,
   "id": "fd6a8bec",
   "metadata": {},
   "outputs": [],
   "source": [
    "from splipy import curve_factory, surface_factory\n",
    "from splipy.io import STL\n",
    "from numpy import pi, cos, sin\n",
    "import numpy as np"
   ]
  },
  {
   "cell_type": "code",
   "execution_count": 5,
   "id": "c38e0206",
   "metadata": {},
   "outputs": [],
   "source": [
    "### create a parametric 3D-function\n",
    "def trefoil(t):\n",
    "    t = np.array(t)\n",
    "    return np.array([sin(t) + 2*sin(2*t), cos(t) - 2*cos(2*t), -sin(3*t)]).T\n",
    "\n",
    "### do an adaptive best cubic spline-fit of this function\n",
    "path  = curve_factory.fit(trefoil, 0, 2*pi)\n",
    "\n",
    "### since we know it is a closed curve, enforce this on the path\n",
    "path  = path.make_periodic(0,0)\n",
    "\n",
    "### create a sweeping curve (either a circle or square)\n",
    "# shape = curve_factory.circle(r=0.2)\n",
    "shape = 0.16*curve_factory.n_gon(4)\n",
    "\n",
    "### sweep *shape along *path\n",
    "srf = surface_factory.sweep(path, shape)\n",
    "\n",
    "### write results to file. Use meshlab (www.meshlab.net) to view stl-files\n",
    "with STL('trefoil.stl') as f:\n",
    "    f.write(srf, n=(150,30))"
   ]
  },
  {
   "cell_type": "markdown",
   "id": "56d711ce",
   "metadata": {},
   "source": [
    "Now open the file `trefoil.stl` in suitable stl visualizer such as meshlab"
   ]
  },
  {
   "cell_type": "code",
   "execution_count": null,
   "id": "8087fa4f",
   "metadata": {},
   "outputs": [],
   "source": []
  }
 ],
 "metadata": {
  "kernelspec": {
   "display_name": "Python 3 (ipykernel)",
   "language": "python",
   "name": "python3"
  },
  "language_info": {
   "codemirror_mode": {
    "name": "ipython",
    "version": 3
   },
   "file_extension": ".py",
   "mimetype": "text/x-python",
   "name": "python",
   "nbconvert_exporter": "python",
   "pygments_lexer": "ipython3",
   "version": "3.9.12"
  }
 },
 "nbformat": 4,
 "nbformat_minor": 5
}
