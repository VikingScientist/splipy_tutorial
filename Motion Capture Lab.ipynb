{
 "cells": [
  {
   "cell_type": "markdown",
   "id": "03e51898",
   "metadata": {},
   "source": [
    "# Motion Capture data\n",
    "\n",
    "The following data is captured in the motion capture lab \"HIPPO\" at Trondheim. Several markers were placed on a human test subject in the following manner\n",
    "\n",
    "\n",
    "<img src=\"markerset.JPG\">"
   ]
  },
  {
   "cell_type": "code",
   "execution_count": 2,
   "id": "df4c6336",
   "metadata": {},
   "outputs": [],
   "source": [
    "import numpy as np\n",
    "import splipy"
   ]
  },
  {
   "cell_type": "code",
   "execution_count": 3,
   "id": "0878b4c6",
   "metadata": {},
   "outputs": [],
   "source": [
    "X = np.loadtxt('motion_capture.data')"
   ]
  },
  {
   "cell_type": "code",
   "execution_count": 4,
   "id": "5b838179",
   "metadata": {},
   "outputs": [
    {
     "data": {
      "text/plain": [
       "(7225, 117)"
      ]
     },
     "execution_count": 4,
     "metadata": {},
     "output_type": "execute_result"
    }
   ],
   "source": [
    "X.shape"
   ]
  },
  {
   "cell_type": "code",
   "execution_count": null,
   "id": "27a2eb53",
   "metadata": {},
   "outputs": [],
   "source": [
    "for i in range()"
   ]
  }
 ],
 "metadata": {
  "kernelspec": {
   "display_name": "Python 3 (ipykernel)",
   "language": "python",
   "name": "python3"
  },
  "language_info": {
   "codemirror_mode": {
    "name": "ipython",
    "version": 3
   },
   "file_extension": ".py",
   "mimetype": "text/x-python",
   "name": "python",
   "nbconvert_exporter": "python",
   "pygments_lexer": "ipython3",
   "version": "3.9.12"
  }
 },
 "nbformat": 4,
 "nbformat_minor": 5
}
